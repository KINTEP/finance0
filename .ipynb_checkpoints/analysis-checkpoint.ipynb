{
 "cells": [
  {
   "cell_type": "code",
   "execution_count": 1,
   "metadata": {},
   "outputs": [],
   "source": [
    "import numpy as np\n",
    "import pandas as pd\n",
    "import matplotlib.pyplot as plt"
   ]
  },
  {
   "cell_type": "code",
   "execution_count": 2,
   "metadata": {},
   "outputs": [],
   "source": [
    "data = pd.read_csv(\"A1sp5001.csv\")"
   ]
  },
  {
   "cell_type": "code",
   "execution_count": 3,
   "metadata": {},
   "outputs": [],
   "source": [
    "#data.head()"
   ]
  },
  {
   "cell_type": "code",
   "execution_count": 4,
   "metadata": {},
   "outputs": [],
   "source": [
    "#data.median106[:10]"
   ]
  },
  {
   "cell_type": "code",
   "execution_count": 5,
   "metadata": {},
   "outputs": [],
   "source": [
    "def process_date(lst):\n",
    "    month = []\n",
    "    day = []\n",
    "    year = []\n",
    "    Dates = []\n",
    "    for dat in lst:\n",
    "        Dates.append(dat.split(\".\"))\n",
    "    for values in Dates:\n",
    "        year.append(int(values[0]))\n",
    "        month.append(int(values[1]))\n",
    "        day.append(int(values[2]))\n",
    "    return year, month, day\n",
    "\n",
    "def process_time(lst):\n",
    "    hour = []\n",
    "    minutes = []\n",
    "    time = []\n",
    "    for tim in lst:\n",
    "        time.append(tim.split(\":\"))\n",
    "    for times in time:\n",
    "        hour.append(int(times[0]))\n",
    "        minutes.append(int(times[1]))\n",
    "    return hour,minutes"
   ]
  },
  {
   "cell_type": "code",
   "execution_count": 6,
   "metadata": {},
   "outputs": [],
   "source": [
    "year, month, day = process_date(data.DATE)\n",
    "hour, minutes = process_time(data.TIME)"
   ]
  },
  {
   "cell_type": "code",
   "execution_count": 7,
   "metadata": {},
   "outputs": [],
   "source": [
    "#data = data.drop(\"DATE\", axis = 1)\n",
    "#data = data.drop(\"TIME\", axis = 1)"
   ]
  },
  {
   "cell_type": "code",
   "execution_count": 8,
   "metadata": {},
   "outputs": [],
   "source": [
    "data[\"DATE\"] = year\n",
    "data[\"month\"] = month\n",
    "data[\"day\"] = day\n",
    "data[\"TIME\"] = hour\n",
    "data[\"minutes\"] = minutes"
   ]
  },
  {
   "cell_type": "code",
   "execution_count": 9,
   "metadata": {},
   "outputs": [
    {
     "data": {
      "text/html": [
       "<div>\n",
       "<style scoped>\n",
       "    .dataframe tbody tr th:only-of-type {\n",
       "        vertical-align: middle;\n",
       "    }\n",
       "\n",
       "    .dataframe tbody tr th {\n",
       "        vertical-align: top;\n",
       "    }\n",
       "\n",
       "    .dataframe thead th {\n",
       "        text-align: right;\n",
       "    }\n",
       "</style>\n",
       "<table border=\"1\" class=\"dataframe\">\n",
       "  <thead>\n",
       "    <tr style=\"text-align: right;\">\n",
       "      <th></th>\n",
       "      <th>DATE</th>\n",
       "      <th>TIME</th>\n",
       "      <th>OPEN</th>\n",
       "      <th>HIGH</th>\n",
       "      <th>LOW</th>\n",
       "      <th>CLOSE</th>\n",
       "      <th>VOL</th>\n",
       "      <th>mean</th>\n",
       "      <th>median</th>\n",
       "      <th>avdev</th>\n",
       "      <th>...</th>\n",
       "      <th>var106</th>\n",
       "      <th>ch106</th>\n",
       "      <th>cl106</th>\n",
       "      <th>co106</th>\n",
       "      <th>oh106</th>\n",
       "      <th>ol106</th>\n",
       "      <th>hl106</th>\n",
       "      <th>month</th>\n",
       "      <th>day</th>\n",
       "      <th>minutes</th>\n",
       "    </tr>\n",
       "  </thead>\n",
       "  <tbody>\n",
       "    <tr>\n",
       "      <td>0</td>\n",
       "      <td>2020</td>\n",
       "      <td>23</td>\n",
       "      <td>3313.25</td>\n",
       "      <td>3316.50</td>\n",
       "      <td>3313.00</td>\n",
       "      <td>3316.50</td>\n",
       "      <td>57</td>\n",
       "      <td>3314.8125</td>\n",
       "      <td>3314.875</td>\n",
       "      <td>1.68750</td>\n",
       "      <td>...</td>\n",
       "      <td>10.980469</td>\n",
       "      <td>-0.25</td>\n",
       "      <td>6.50</td>\n",
       "      <td>6.50</td>\n",
       "      <td>-0.25</td>\n",
       "      <td>0.00</td>\n",
       "      <td>6.75</td>\n",
       "      <td>9</td>\n",
       "      <td>8</td>\n",
       "      <td>5</td>\n",
       "    </tr>\n",
       "    <tr>\n",
       "      <td>1</td>\n",
       "      <td>2020</td>\n",
       "      <td>23</td>\n",
       "      <td>3316.00</td>\n",
       "      <td>3317.25</td>\n",
       "      <td>3315.50</td>\n",
       "      <td>3316.75</td>\n",
       "      <td>43</td>\n",
       "      <td>3316.3750</td>\n",
       "      <td>3316.375</td>\n",
       "      <td>0.62500</td>\n",
       "      <td>...</td>\n",
       "      <td>2.167969</td>\n",
       "      <td>-0.75</td>\n",
       "      <td>2.75</td>\n",
       "      <td>2.25</td>\n",
       "      <td>-0.75</td>\n",
       "      <td>0.50</td>\n",
       "      <td>3.50</td>\n",
       "      <td>9</td>\n",
       "      <td>8</td>\n",
       "      <td>6</td>\n",
       "    </tr>\n",
       "    <tr>\n",
       "      <td>2</td>\n",
       "      <td>2020</td>\n",
       "      <td>23</td>\n",
       "      <td>3316.50</td>\n",
       "      <td>3316.75</td>\n",
       "      <td>3316.00</td>\n",
       "      <td>3316.50</td>\n",
       "      <td>33</td>\n",
       "      <td>3316.4375</td>\n",
       "      <td>3316.500</td>\n",
       "      <td>0.21875</td>\n",
       "      <td>...</td>\n",
       "      <td>5.125000</td>\n",
       "      <td>-4.50</td>\n",
       "      <td>0.50</td>\n",
       "      <td>-4.00</td>\n",
       "      <td>-4.50</td>\n",
       "      <td>4.50</td>\n",
       "      <td>5.00</td>\n",
       "      <td>9</td>\n",
       "      <td>8</td>\n",
       "      <td>7</td>\n",
       "    </tr>\n",
       "    <tr>\n",
       "      <td>3</td>\n",
       "      <td>2020</td>\n",
       "      <td>23</td>\n",
       "      <td>3316.50</td>\n",
       "      <td>3317.75</td>\n",
       "      <td>3315.75</td>\n",
       "      <td>3316.25</td>\n",
       "      <td>45</td>\n",
       "      <td>3316.5625</td>\n",
       "      <td>3316.375</td>\n",
       "      <td>0.59375</td>\n",
       "      <td>...</td>\n",
       "      <td>0.531250</td>\n",
       "      <td>-1.25</td>\n",
       "      <td>0.75</td>\n",
       "      <td>-0.50</td>\n",
       "      <td>-1.25</td>\n",
       "      <td>1.25</td>\n",
       "      <td>2.00</td>\n",
       "      <td>9</td>\n",
       "      <td>8</td>\n",
       "      <td>8</td>\n",
       "    </tr>\n",
       "    <tr>\n",
       "      <td>4</td>\n",
       "      <td>2020</td>\n",
       "      <td>23</td>\n",
       "      <td>3316.75</td>\n",
       "      <td>3317.25</td>\n",
       "      <td>3315.75</td>\n",
       "      <td>3316.00</td>\n",
       "      <td>30</td>\n",
       "      <td>3316.4375</td>\n",
       "      <td>3316.375</td>\n",
       "      <td>0.56250</td>\n",
       "      <td>...</td>\n",
       "      <td>0.355469</td>\n",
       "      <td>-0.50</td>\n",
       "      <td>1.00</td>\n",
       "      <td>0.75</td>\n",
       "      <td>-0.50</td>\n",
       "      <td>0.25</td>\n",
       "      <td>1.50</td>\n",
       "      <td>9</td>\n",
       "      <td>8</td>\n",
       "      <td>9</td>\n",
       "    </tr>\n",
       "  </tbody>\n",
       "</table>\n",
       "<p>5 rows × 1423 columns</p>\n",
       "</div>"
      ],
      "text/plain": [
       "   DATE  TIME     OPEN     HIGH      LOW    CLOSE  VOL       mean    median  \\\n",
       "0  2020    23  3313.25  3316.50  3313.00  3316.50   57  3314.8125  3314.875   \n",
       "1  2020    23  3316.00  3317.25  3315.50  3316.75   43  3316.3750  3316.375   \n",
       "2  2020    23  3316.50  3316.75  3316.00  3316.50   33  3316.4375  3316.500   \n",
       "3  2020    23  3316.50  3317.75  3315.75  3316.25   45  3316.5625  3316.375   \n",
       "4  2020    23  3316.75  3317.25  3315.75  3316.00   30  3316.4375  3316.375   \n",
       "\n",
       "     avdev  ...     var106  ch106  cl106  co106  oh106  ol106  hl106  month  \\\n",
       "0  1.68750  ...  10.980469  -0.25   6.50   6.50  -0.25   0.00   6.75      9   \n",
       "1  0.62500  ...   2.167969  -0.75   2.75   2.25  -0.75   0.50   3.50      9   \n",
       "2  0.21875  ...   5.125000  -4.50   0.50  -4.00  -4.50   4.50   5.00      9   \n",
       "3  0.59375  ...   0.531250  -1.25   0.75  -0.50  -1.25   1.25   2.00      9   \n",
       "4  0.56250  ...   0.355469  -0.50   1.00   0.75  -0.50   0.25   1.50      9   \n",
       "\n",
       "   day  minutes  \n",
       "0    8        5  \n",
       "1    8        6  \n",
       "2    8        7  \n",
       "3    8        8  \n",
       "4    8        9  \n",
       "\n",
       "[5 rows x 1423 columns]"
      ]
     },
     "execution_count": 9,
     "metadata": {},
     "output_type": "execute_result"
    }
   ],
   "source": [
    "data.head()"
   ]
  },
  {
   "cell_type": "code",
   "execution_count": 10,
   "metadata": {},
   "outputs": [],
   "source": [
    "def determine_trough(sequence, window):\n",
    "    x_vals = []\n",
    "    y_vals = []\n",
    "    L = len(sequence)\n",
    "    for i in range(L):\n",
    "        start = i\n",
    "        end = i + window\n",
    "        left = sequence[start:end]\n",
    "        right = sequence[end-1:(end+window-1)]\n",
    "        if len(right) < len(left):\n",
    "            break\n",
    "        if (min(left) == left[-1]) and (min(right) == right[0]):\n",
    "            x_vals.append(sequence.index(left[-1], start+window-1))\n",
    "    for v in x_vals:\n",
    "        y_vals.append(sequence[v])\n",
    "    return x_vals, y_vals"
   ]
  },
  {
   "cell_type": "code",
   "execution_count": 11,
   "metadata": {},
   "outputs": [],
   "source": [
    "def determine_peaks(sequence, window):\n",
    "    x_vals = []\n",
    "    y_vals = []\n",
    "    L = len(sequence)\n",
    "    for i in range(L):\n",
    "        start = i\n",
    "        end = i + window\n",
    "        left = sequence[start:end]\n",
    "        right = sequence[end-1:(end+window-1)]\n",
    "        if len(right) < len(left):\n",
    "            break\n",
    "        if (max(left) == left[-1]) and (max(right) == right[0]):\n",
    "            x_vals.append(sequence.index(left[-1], start+window-1))\n",
    "    for v in x_vals:\n",
    "        y_vals.append(sequence[v])\n",
    "    return x_vals, y_vals"
   ]
  },
  {
   "cell_type": "code",
   "execution_count": 12,
   "metadata": {},
   "outputs": [],
   "source": [
    "def normalize(data):\n",
    "    min1 = min(data)\n",
    "    max1 = max(data)\n",
    "    norm = []\n",
    "    for x in data:\n",
    "        norm.append((x-min1)/(max1-min1))\n",
    "    return norm\n",
    "\n",
    "def check2(lst, idx):\n",
    "    lft = [i for i in lst if idx < i]\n",
    "    rht = [i for i in lst if idx > i]\n",
    "    return lft[0], rht[-1]\n",
    "\n",
    "def other_prices(x1, T, P):\n",
    "    if P == T:\n",
    "        return 0.5\n",
    "    return abs((x1 - P)/(P - T))\n",
    "\n",
    "def compute_labels(lst):\n",
    "    data = []\n",
    "    for val in lst:\n",
    "        data.append(other_prices(val, max(lst), min(lst)))\n",
    "    return data\n",
    "\n",
    "def final_label(labels, sequence):\n",
    "    all_labels = []\n",
    "    N = len(labels)-1\n",
    "    for i in range(N):\n",
    "        if i == N-1:\n",
    "            lst1 = sequence[labels[i]:labels[i+1]+1]\n",
    "            all_labels += compute_labels(lst1)\n",
    "        else:\n",
    "            lst1 = sequence[labels[i]:labels[i+1]]\n",
    "            all_labels += compute_labels(lst1)\n",
    "    return all_labels\n",
    "\n",
    "def full_alternate_seq(troughs, peaks, sequence):\n",
    "    sum1 = [0, len(sequence)-1]\n",
    "    sum1 = sorted(sum1 + troughs + peaks)\n",
    "    return sum1"
   ]
  },
  {
   "cell_type": "code",
   "execution_count": 13,
   "metadata": {},
   "outputs": [],
   "source": [
    "seq = [round(x,5) for x in data.CLOSE]\n",
    "Tx, Ty = determine_trough(seq, 5)\n",
    "Px, Py = determine_peaks(seq, 5)\n",
    "sum11 = full_alternate_seq(troughs = Tx, peaks = Px, sequence = seq)\n",
    "F11 = final_label(sum11, seq)"
   ]
  },
  {
   "cell_type": "code",
   "execution_count": 14,
   "metadata": {},
   "outputs": [
    {
     "data": {
      "text/plain": [
       "True"
      ]
     },
     "execution_count": 14,
     "metadata": {},
     "output_type": "execute_result"
    }
   ],
   "source": [
    "len(F11) == len(data.CLOSE)"
   ]
  },
  {
   "cell_type": "code",
   "execution_count": 15,
   "metadata": {},
   "outputs": [],
   "source": [
    "data[\"labels\"] = F11"
   ]
  },
  {
   "cell_type": "code",
   "execution_count": 17,
   "metadata": {},
   "outputs": [],
   "source": [
    "X = data.drop(\"labels\", axis = 1)\n",
    "y = data.labels"
   ]
  },
  {
   "cell_type": "code",
   "execution_count": 18,
   "metadata": {},
   "outputs": [],
   "source": [
    "from sklearn.decomposition import PCA"
   ]
  },
  {
   "cell_type": "code",
   "execution_count": 19,
   "metadata": {},
   "outputs": [
    {
     "ename": "ValueError",
     "evalue": "n_components=1424 must be between 0 and min(n_samples, n_features)=1423 with svd_solver='full'",
     "output_type": "error",
     "traceback": [
      "\u001b[1;31m---------------------------------------------------------------------------\u001b[0m",
      "\u001b[1;31mValueError\u001b[0m                                Traceback (most recent call last)",
      "\u001b[1;32m<ipython-input-19-ed3aa3c9c516>\u001b[0m in \u001b[0;36m<module>\u001b[1;34m\u001b[0m\n\u001b[0;32m      3\u001b[0m \u001b[1;33m\u001b[0m\u001b[0m\n\u001b[0;32m      4\u001b[0m \u001b[0mpca\u001b[0m \u001b[1;33m=\u001b[0m \u001b[0mPCA\u001b[0m\u001b[1;33m(\u001b[0m\u001b[0mn_components\u001b[0m\u001b[1;33m=\u001b[0m\u001b[0mN\u001b[0m\u001b[1;33m)\u001b[0m\u001b[1;33m\u001b[0m\u001b[1;33m\u001b[0m\u001b[0m\n\u001b[1;32m----> 5\u001b[1;33m \u001b[0mpca\u001b[0m\u001b[1;33m.\u001b[0m\u001b[0mfit\u001b[0m\u001b[1;33m(\u001b[0m\u001b[0mX\u001b[0m\u001b[1;33m)\u001b[0m\u001b[1;33m\u001b[0m\u001b[1;33m\u001b[0m\u001b[0m\n\u001b[0m\u001b[0;32m      6\u001b[0m \u001b[0mX_pca\u001b[0m \u001b[1;33m=\u001b[0m \u001b[0mpca\u001b[0m\u001b[1;33m.\u001b[0m\u001b[0mtransform\u001b[0m\u001b[1;33m(\u001b[0m\u001b[0mX\u001b[0m\u001b[1;33m)\u001b[0m\u001b[1;33m\u001b[0m\u001b[1;33m\u001b[0m\u001b[0m\n",
      "\u001b[1;32m~\\Anaconda3\\lib\\site-packages\\sklearn\\decomposition\\pca.py\u001b[0m in \u001b[0;36mfit\u001b[1;34m(self, X, y)\u001b[0m\n\u001b[0;32m    339\u001b[0m             \u001b[0mReturns\u001b[0m \u001b[0mthe\u001b[0m \u001b[0minstance\u001b[0m \u001b[0mitself\u001b[0m\u001b[1;33m.\u001b[0m\u001b[1;33m\u001b[0m\u001b[1;33m\u001b[0m\u001b[0m\n\u001b[0;32m    340\u001b[0m         \"\"\"\n\u001b[1;32m--> 341\u001b[1;33m         \u001b[0mself\u001b[0m\u001b[1;33m.\u001b[0m\u001b[0m_fit\u001b[0m\u001b[1;33m(\u001b[0m\u001b[0mX\u001b[0m\u001b[1;33m)\u001b[0m\u001b[1;33m\u001b[0m\u001b[1;33m\u001b[0m\u001b[0m\n\u001b[0m\u001b[0;32m    342\u001b[0m         \u001b[1;32mreturn\u001b[0m \u001b[0mself\u001b[0m\u001b[1;33m\u001b[0m\u001b[1;33m\u001b[0m\u001b[0m\n\u001b[0;32m    343\u001b[0m \u001b[1;33m\u001b[0m\u001b[0m\n",
      "\u001b[1;32m~\\Anaconda3\\lib\\site-packages\\sklearn\\decomposition\\pca.py\u001b[0m in \u001b[0;36m_fit\u001b[1;34m(self, X)\u001b[0m\n\u001b[0;32m    405\u001b[0m         \u001b[1;31m# Call different fits for either full or truncated SVD\u001b[0m\u001b[1;33m\u001b[0m\u001b[1;33m\u001b[0m\u001b[1;33m\u001b[0m\u001b[0m\n\u001b[0;32m    406\u001b[0m         \u001b[1;32mif\u001b[0m \u001b[0mself\u001b[0m\u001b[1;33m.\u001b[0m\u001b[0m_fit_svd_solver\u001b[0m \u001b[1;33m==\u001b[0m \u001b[1;34m'full'\u001b[0m\u001b[1;33m:\u001b[0m\u001b[1;33m\u001b[0m\u001b[1;33m\u001b[0m\u001b[0m\n\u001b[1;32m--> 407\u001b[1;33m             \u001b[1;32mreturn\u001b[0m \u001b[0mself\u001b[0m\u001b[1;33m.\u001b[0m\u001b[0m_fit_full\u001b[0m\u001b[1;33m(\u001b[0m\u001b[0mX\u001b[0m\u001b[1;33m,\u001b[0m \u001b[0mn_components\u001b[0m\u001b[1;33m)\u001b[0m\u001b[1;33m\u001b[0m\u001b[1;33m\u001b[0m\u001b[0m\n\u001b[0m\u001b[0;32m    408\u001b[0m         \u001b[1;32melif\u001b[0m \u001b[0mself\u001b[0m\u001b[1;33m.\u001b[0m\u001b[0m_fit_svd_solver\u001b[0m \u001b[1;32min\u001b[0m \u001b[1;33m[\u001b[0m\u001b[1;34m'arpack'\u001b[0m\u001b[1;33m,\u001b[0m \u001b[1;34m'randomized'\u001b[0m\u001b[1;33m]\u001b[0m\u001b[1;33m:\u001b[0m\u001b[1;33m\u001b[0m\u001b[1;33m\u001b[0m\u001b[0m\n\u001b[0;32m    409\u001b[0m             \u001b[1;32mreturn\u001b[0m \u001b[0mself\u001b[0m\u001b[1;33m.\u001b[0m\u001b[0m_fit_truncated\u001b[0m\u001b[1;33m(\u001b[0m\u001b[0mX\u001b[0m\u001b[1;33m,\u001b[0m \u001b[0mn_components\u001b[0m\u001b[1;33m,\u001b[0m \u001b[0mself\u001b[0m\u001b[1;33m.\u001b[0m\u001b[0m_fit_svd_solver\u001b[0m\u001b[1;33m)\u001b[0m\u001b[1;33m\u001b[0m\u001b[1;33m\u001b[0m\u001b[0m\n",
      "\u001b[1;32m~\\Anaconda3\\lib\\site-packages\\sklearn\\decomposition\\pca.py\u001b[0m in \u001b[0;36m_fit_full\u001b[1;34m(self, X, n_components)\u001b[0m\n\u001b[0;32m    424\u001b[0m                              \u001b[1;34m\"min(n_samples, n_features)=%r with \"\u001b[0m\u001b[1;33m\u001b[0m\u001b[1;33m\u001b[0m\u001b[0m\n\u001b[0;32m    425\u001b[0m                              \u001b[1;34m\"svd_solver='full'\"\u001b[0m\u001b[1;33m\u001b[0m\u001b[1;33m\u001b[0m\u001b[0m\n\u001b[1;32m--> 426\u001b[1;33m                              % (n_components, min(n_samples, n_features)))\n\u001b[0m\u001b[0;32m    427\u001b[0m         \u001b[1;32melif\u001b[0m \u001b[0mn_components\u001b[0m \u001b[1;33m>=\u001b[0m \u001b[1;36m1\u001b[0m\u001b[1;33m:\u001b[0m\u001b[1;33m\u001b[0m\u001b[1;33m\u001b[0m\u001b[0m\n\u001b[0;32m    428\u001b[0m             \u001b[1;32mif\u001b[0m \u001b[1;32mnot\u001b[0m \u001b[0misinstance\u001b[0m\u001b[1;33m(\u001b[0m\u001b[0mn_components\u001b[0m\u001b[1;33m,\u001b[0m \u001b[1;33m(\u001b[0m\u001b[0mnumbers\u001b[0m\u001b[1;33m.\u001b[0m\u001b[0mIntegral\u001b[0m\u001b[1;33m,\u001b[0m \u001b[0mnp\u001b[0m\u001b[1;33m.\u001b[0m\u001b[0minteger\u001b[0m\u001b[1;33m)\u001b[0m\u001b[1;33m)\u001b[0m\u001b[1;33m:\u001b[0m\u001b[1;33m\u001b[0m\u001b[1;33m\u001b[0m\u001b[0m\n",
      "\u001b[1;31mValueError\u001b[0m: n_components=1424 must be between 0 and min(n_samples, n_features)=1423 with svd_solver='full'"
     ]
    }
   ],
   "source": [
    "# PCA\n",
    "N = len(data.columns)\n",
    "\n",
    "pca = PCA(n_components=N)\n",
    "pca.fit(X)\n",
    "X_pca = pca.transform(X)"
   ]
  },
  {
   "cell_type": "code",
   "execution_count": null,
   "metadata": {},
   "outputs": [],
   "source": [
    "# Calculate cumulative explained variance across all PCs\n",
    "\n",
    "cum_exp_var = []\n",
    "var_exp = 0\n",
    "for i in pca.explained_variance_ratio_:\n",
    "    var_exp += i\n",
    "    cum_exp_var.append(var_exp)\n",
    "\n",
    "# Plot cumulative explained variance for all PCs\n",
    "\n",
    "fig, ax = plt.subplots(figsize=(8,6))\n",
    "ax.bar(range(1,96), cum_exp_var)\n",
    "ax.set_xlabel('# Principal Components')\n",
    "ax.set_ylabel('% Cumulative Variance Explained')"
   ]
  },
  {
   "cell_type": "code",
   "execution_count": null,
   "metadata": {},
   "outputs": [],
   "source": [
    "X = X_pca[:,0:30]\n",
    "    \n",
    "# Train-test-split\n",
    "X_train, X_test, y_train, y_test = train_test_split(X, y,test_size=0.3, random_state=42)"
   ]
  },
  {
   "cell_type": "code",
   "execution_count": 17,
   "metadata": {},
   "outputs": [],
   "source": []
  },
  {
   "cell_type": "code",
   "execution_count": 18,
   "metadata": {},
   "outputs": [],
   "source": [
    "from sklearn.model_selection import train_test_split\n",
    "X_train, X_test, y_train, y_test = train_test_split(X, y, test_size=0.3, random_state=42)"
   ]
  },
  {
   "cell_type": "code",
   "execution_count": null,
   "metadata": {},
   "outputs": [
    {
     "name": "stderr",
     "output_type": "stream",
     "text": [
      "C:\\Users\\Dorcas\\Anaconda3\\lib\\site-packages\\sklearn\\svm\\base.py:193: FutureWarning: The default value of gamma will change from 'auto' to 'scale' in version 0.22 to account better for unscaled features. Set gamma explicitly to 'auto' or 'scale' to avoid this warning.\n",
      "  \"avoid this warning.\", FutureWarning)\n"
     ]
    }
   ],
   "source": [
    "from sklearn.linear_model import LinearRegression\n",
    "from sklearn import preprocessing, svm\n",
    "\n",
    "from sklearn.svm import SVR\n",
    "from sklearn.preprocessing import StandardScaler\n",
    "\n",
    "#sc_X = StandardScaler()\n",
    "#sc_y = StandardScaler()\n",
    "\n",
    "#X = sc_X.fit_transform(X)\n",
    "#y = sc_y.fit_transform(y)\n",
    "regressor = SVR(kernel = 'rbf')\n",
    "regressor.fit(X_train,y_train)"
   ]
  },
  {
   "cell_type": "code",
   "execution_count": null,
   "metadata": {},
   "outputs": [],
   "source": [
    "from sklearn import linear_model\n",
    "\n",
    "lm = linear_model.LinearRegression()\n",
    "model = lm.fit(X_train,y_train)"
   ]
  },
  {
   "cell_type": "code",
   "execution_count": null,
   "metadata": {},
   "outputs": [],
   "source": [
    "predictions = lm.predict(X_train)\n",
    "lm.score(X_train,y_train)"
   ]
  },
  {
   "cell_type": "code",
   "execution_count": null,
   "metadata": {},
   "outputs": [],
   "source": []
  }
 ],
 "metadata": {
  "kernelspec": {
   "display_name": "Python 3",
   "language": "python",
   "name": "python3"
  },
  "language_info": {
   "codemirror_mode": {
    "name": "ipython",
    "version": 3
   },
   "file_extension": ".py",
   "mimetype": "text/x-python",
   "name": "python",
   "nbconvert_exporter": "python",
   "pygments_lexer": "ipython3",
   "version": "3.8.5"
  }
 },
 "nbformat": 4,
 "nbformat_minor": 2
}
