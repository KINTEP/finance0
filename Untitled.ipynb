{
 "cells": [
  {
   "cell_type": "code",
   "execution_count": 1,
   "metadata": {},
   "outputs": [
    {
     "name": "stdout",
     "output_type": "stream",
     "text": [
      "Hi, its been a while now\n"
     ]
    }
   ],
   "source": [
    "print('Hi, its been a while now')"
   ]
  },
  {
   "cell_type": "code",
   "execution_count": 2,
   "metadata": {},
   "outputs": [
    {
     "name": "stderr",
     "output_type": "stream",
     "text": [
      "Matplotlib is building the font cache; this may take a moment.\n"
     ]
    }
   ],
   "source": [
    "import numpy as np\n",
    "import pandas as pd\n",
    "import matplotlib.pyplot as plt"
   ]
  },
  {
   "cell_type": "code",
   "execution_count": 7,
   "metadata": {},
   "outputs": [],
   "source": [
    "data1 = pd.read_csv(\"S&P5001.csv\")"
   ]
  },
  {
   "cell_type": "code",
   "execution_count": 8,
   "metadata": {},
   "outputs": [
    {
     "data": {
      "text/html": [
       "<div>\n",
       "<style scoped>\n",
       "    .dataframe tbody tr th:only-of-type {\n",
       "        vertical-align: middle;\n",
       "    }\n",
       "\n",
       "    .dataframe tbody tr th {\n",
       "        vertical-align: top;\n",
       "    }\n",
       "\n",
       "    .dataframe thead th {\n",
       "        text-align: right;\n",
       "    }\n",
       "</style>\n",
       "<table border=\"1\" class=\"dataframe\">\n",
       "  <thead>\n",
       "    <tr style=\"text-align: right;\">\n",
       "      <th></th>\n",
       "      <th>DATE</th>\n",
       "      <th>TIME</th>\n",
       "      <th>OPEN</th>\n",
       "      <th>HIGH</th>\n",
       "      <th>LOW</th>\n",
       "      <th>CLOSE</th>\n",
       "      <th>VOL</th>\n",
       "      <th>AVGp</th>\n",
       "      <th>STD1</th>\n",
       "      <th>D1</th>\n",
       "    </tr>\n",
       "  </thead>\n",
       "  <tbody>\n",
       "    <tr>\n",
       "      <th>0</th>\n",
       "      <td>2020.10.22</td>\n",
       "      <td>19:53</td>\n",
       "      <td>3447.5</td>\n",
       "      <td>3448.25</td>\n",
       "      <td>3447.50</td>\n",
       "      <td>3447.75</td>\n",
       "      <td>19</td>\n",
       "      <td>3447.7500</td>\n",
       "      <td>0.306186</td>\n",
       "      <td>0.0</td>\n",
       "    </tr>\n",
       "    <tr>\n",
       "      <th>1</th>\n",
       "      <td>2020.10.22</td>\n",
       "      <td>19:54</td>\n",
       "      <td>3447.5</td>\n",
       "      <td>3449.75</td>\n",
       "      <td>3447.50</td>\n",
       "      <td>3449.25</td>\n",
       "      <td>40</td>\n",
       "      <td>3448.5000</td>\n",
       "      <td>1.015505</td>\n",
       "      <td>1.5</td>\n",
       "    </tr>\n",
       "    <tr>\n",
       "      <th>2</th>\n",
       "      <td>2020.10.22</td>\n",
       "      <td>19:55</td>\n",
       "      <td>3449.5</td>\n",
       "      <td>3449.75</td>\n",
       "      <td>3445.25</td>\n",
       "      <td>3445.25</td>\n",
       "      <td>81</td>\n",
       "      <td>3447.4375</td>\n",
       "      <td>2.189285</td>\n",
       "      <td>-4.0</td>\n",
       "    </tr>\n",
       "    <tr>\n",
       "      <th>3</th>\n",
       "      <td>2020.10.22</td>\n",
       "      <td>19:56</td>\n",
       "      <td>3445.5</td>\n",
       "      <td>3445.50</td>\n",
       "      <td>3442.00</td>\n",
       "      <td>3442.75</td>\n",
       "      <td>73</td>\n",
       "      <td>3443.9375</td>\n",
       "      <td>1.584840</td>\n",
       "      <td>-2.5</td>\n",
       "    </tr>\n",
       "    <tr>\n",
       "      <th>4</th>\n",
       "      <td>2020.10.22</td>\n",
       "      <td>19:57</td>\n",
       "      <td>3442.5</td>\n",
       "      <td>3446.00</td>\n",
       "      <td>3442.50</td>\n",
       "      <td>3444.75</td>\n",
       "      <td>75</td>\n",
       "      <td>3443.9375</td>\n",
       "      <td>1.503901</td>\n",
       "      <td>2.0</td>\n",
       "    </tr>\n",
       "  </tbody>\n",
       "</table>\n",
       "</div>"
      ],
      "text/plain": [
       "         DATE   TIME    OPEN     HIGH      LOW    CLOSE  VOL       AVGp  \\\n",
       "0  2020.10.22  19:53  3447.5  3448.25  3447.50  3447.75   19  3447.7500   \n",
       "1  2020.10.22  19:54  3447.5  3449.75  3447.50  3449.25   40  3448.5000   \n",
       "2  2020.10.22  19:55  3449.5  3449.75  3445.25  3445.25   81  3447.4375   \n",
       "3  2020.10.22  19:56  3445.5  3445.50  3442.00  3442.75   73  3443.9375   \n",
       "4  2020.10.22  19:57  3442.5  3446.00  3442.50  3444.75   75  3443.9375   \n",
       "\n",
       "       STD1   D1  \n",
       "0  0.306186  0.0  \n",
       "1  1.015505  1.5  \n",
       "2  2.189285 -4.0  \n",
       "3  1.584840 -2.5  \n",
       "4  1.503901  2.0  "
      ]
     },
     "execution_count": 8,
     "metadata": {},
     "output_type": "execute_result"
    }
   ],
   "source": [
    "data1.head()"
   ]
  },
  {
   "cell_type": "code",
   "execution_count": 11,
   "metadata": {},
   "outputs": [],
   "source": [
    "l1 = [1,5,6,3,7,9,10,3,1,7]"
   ]
  },
  {
   "cell_type": "code",
   "execution_count": 13,
   "metadata": {},
   "outputs": [
    {
     "data": {
      "text/plain": [
       "[<matplotlib.lines.Line2D at 0x758940>]"
      ]
     },
     "execution_count": 13,
     "metadata": {},
     "output_type": "execute_result"
    },
    {
     "data": {
      "image/png": "[encoded data removed]",
      "text/plain": [
       "<Figure size 432x288 with 1 Axes>"
      ]
     },
     "metadata": {
      "needs_background": "light"
     },
     "output_type": "display_data"
    }
   ],
   "source": [
    "plt.plot(l1)"
   ]
  },
  {
   "cell_type": "code",
   "execution_count": 14,
   "metadata": {},
   "outputs": [],
   "source": [
    "f1 = np.fft.fft(l1)"
   ]
  },
  {
   "cell_type": "code",
   "execution_count": 17,
   "metadata": {},
   "outputs": [],
   "source": [
    "imag1 = []\n",
    "real1 = []\n",
    "for i in f1:\n",
    "    imag1.append(i.imag)\n",
    "    real1.append(i.real)"
   ]
  },
  {
   "cell_type": "code",
   "execution_count": 23,
   "metadata": {},
   "outputs": [],
   "source": [
    "freq = [i for i in range(len(l1))]"
   ]
  },
  {
   "cell_type": "code",
   "execution_count": 25,
   "metadata": {},
   "outputs": [
    {
     "name": "stdout",
     "output_type": "stream",
     "text": [
      "(52+0j)\n",
      "(-11.73606797749979-1.8163563200134014j)\n",
      "(8.44427190999916-3.8899827777575195j)\n",
      "(-7.26393202250021+7.694208842938133j)\n",
      "(-9.44427190999916+4.167497329183294j)\n",
      "(-2-4.440892098500626e-16j)\n",
      "(-9.44427190999916-4.167497329183294j)\n",
      "(-7.26393202250021-7.694208842938133j)\n",
      "(8.44427190999916+3.8899827777575195j)\n",
      "(-11.73606797749979+1.8163563200134032j)\n"
     ]
    }
   ],
   "source": [
    "for v in f1:\n",
    "    print(v)"
   ]
  },
  {
   "cell_type": "code",
   "execution_count": 26,
   "metadata": {},
   "outputs": [],
   "source": [
    "func1 = np.fft.ifft(f1)"
   ]
  },
  {
   "cell_type": "code",
   "execution_count": 27,
   "metadata": {},
   "outputs": [
    {
     "data": {
      "text/plain": [
       "array([[1.+0.00000000e+00j, 1.-2.25359263e-17j],\n",
       "       [1.+2.25359263e-17j, 1.+0.00000000e+00j]])"
      ]
     },
     "execution_count": 27,
     "metadata": {},
     "output_type": "execute_result"
    }
   ],
   "source": [
    "np.corrcoef(func1, l1)"
   ]
  },
  {
   "cell_type": "code",
   "execution_count": 29,
   "metadata": {},
   "outputs": [],
   "source": [
    "#plt.plot(func1, l1)"
   ]
  },
  {
   "cell_type": "code",
   "execution_count": 34,
   "metadata": {},
   "outputs": [],
   "source": [
    "amp1 = np.conj(f1)"
   ]
  },
  {
   "cell_type": "code",
   "execution_count": 43,
   "metadata": {},
   "outputs": [
    {
     "data": {
      "text/plain": [
       "<BarContainer object of 9 artists>"
      ]
     },
     "execution_count": 43,
     "metadata": {},
     "output_type": "execute_result"
    },
    {
     "data": {
      "image/png": "[encoded data removed]",
      "text/plain": [
       "<Figure size 432x288 with 1 Axes>"
      ]
     },
     "metadata": {
      "needs_background": "light"
     },
     "output_type": "display_data"
    }
   ],
   "source": [
    "plt.bar([i for i in range(1, 10)], abs(amp1[1:].real))"
   ]
  },
  {
   "cell_type": "code",
   "execution_count": 45,
   "metadata": {},
   "outputs": [
    {
     "data": {
      "text/plain": [
       "<BarContainer object of 9 artists>"
      ]
     },
     "execution_count": 45,
     "metadata": {},
     "output_type": "execute_result"
    },
    {
     "data": {
      "image/png": "[encoded data removed]",
      "text/plain": [
       "<Figure size 432x288 with 1 Axes>"
      ]
     },
     "metadata": {
      "needs_background": "light"
     },
     "output_type": "display_data"
    }
   ],
   "source": [
    "plt.bar([i for i in range(1, 10)], amp1[1:].imag)"
   ]
  },
  {
   "cell_type": "code",
   "execution_count": 86,
   "metadata": {},
   "outputs": [
    {
     "data": {
      "text/plain": [
       "array([ 52.        , -11.73606798,   8.44427191,  -7.26393202,\n",
       "        -9.44427191,  -2.        ,  -9.44427191,  -7.26393202,\n",
       "         8.44427191, -11.73606798])"
      ]
     },
     "execution_count": 86,
     "metadata": {},
     "output_type": "execute_result"
    }
   ],
   "source": [
    "ampaa11= f1[:].real\n",
    "ampaa11"
   ]
  },
  {
   "cell_type": "code",
   "execution_count": 129,
   "metadata": {},
   "outputs": [
    {
     "data": {
      "text/plain": [
       "array([ 0.00000000e+00, -1.81635632e+00, -3.88998278e+00,  7.69420884e+00,\n",
       "        4.16749733e+00, -4.44089210e-16, -4.16749733e+00, -7.69420884e+00,\n",
       "        3.88998278e+00,  1.81635632e+00])"
      ]
     },
     "execution_count": 129,
     "metadata": {},
     "output_type": "execute_result"
    }
   ],
   "source": [
    "ampaa22= f1[:].imag\n",
    "ampaa22"
   ]
  },
  {
   "cell_type": "code",
   "execution_count": 176,
   "metadata": {},
   "outputs": [],
   "source": [
    "sine1 = np.zeros(10)\n",
    "x_vals = np.array([x for x in range(0, len(ampaa11))])\n",
    "\n",
    "c = 0\n",
    "for i in freqs:\n",
    "    sine1 += ampaa11[c]*np.cos(i*x_vals)\n",
    "    c += 1"
   ]
  },
  {
   "cell_type": "code",
   "execution_count": 179,
   "metadata": {},
   "outputs": [],
   "source": [
    "cos1 = np.zeros(10)\n",
    "x_vals = np.array([x for x in range(0, len(ampaa11))])\n",
    "x1 = np.linspace(0,1,10)\n",
    "\n",
    "c = 0\n",
    "for i in freqs:\n",
    "    cos1 += ampaa22[c]*np.sin(i*x1)\n",
    "    c += 1"
   ]
  },
  {
   "cell_type": "code",
   "execution_count": 180,
   "metadata": {},
   "outputs": [
    {
     "data": {
      "text/plain": [
       "[<matplotlib.lines.Line2D at 0xc2339d0>]"
      ]
     },
     "execution_count": 180,
     "metadata": {},
     "output_type": "execute_result"
    },
    {
     "data": {
      "image/png": "[encoded data removed]",
      "text/plain": [
       "<Figure size 432x288 with 1 Axes>"
      ]
     },
     "metadata": {
      "needs_background": "light"
     },
     "output_type": "display_data"
    }
   ],
   "source": [
    "plt.plot(sine1)"
   ]
  },
  {
   "cell_type": "code",
   "execution_count": 181,
   "metadata": {},
   "outputs": [
    {
     "data": {
      "text/plain": [
       "[<matplotlib.lines.Line2D at 0xd236a30>]"
      ]
     },
     "execution_count": 181,
     "metadata": {},
     "output_type": "execute_result"
    },
    {
     "data": {
      "image/png": "[encoded data removed]",
      "text/plain": [
       "<Figure size 432x288 with 1 Axes>"
      ]
     },
     "metadata": {
      "needs_background": "light"
     },
     "output_type": "display_data"
    }
   ],
   "source": [
    "plt.plot(cos1)"
   ]
  },
  {
   "cell_type": "code",
   "execution_count": 175,
   "metadata": {},
   "outputs": [
    {
     "name": "stdout",
     "output_type": "stream",
     "text": [
      "[ 1.77635684e-15  9.58851077e-01  1.68294197e+00  1.99498997e+00\n",
      "  1.81859485e+00  1.19694429e+00  2.82240016e-01 -7.01566455e-01\n",
      " -1.51360499e+00 -1.95506024e+00]\n"
     ]
    },
    {
     "data": {
      "text/plain": [
       "[<matplotlib.lines.Line2D at 0xc1d6208>]"
      ]
     },
     "execution_count": 175,
     "metadata": {},
     "output_type": "execute_result"
    },
    {
     "data": {
      "image/png": "[encoded data removed]",
      "text/plain": [
       "<Figure size 432x288 with 1 Axes>"
      ]
     },
     "metadata": {
      "needs_background": "light"
     },
     "output_type": "display_data"
    }
   ],
   "source": [
    "sum1 = cos1 + sine1\n",
    "print(sum1)\n",
    "plt.plot(sum1)"
   ]
  },
  {
   "cell_type": "code",
   "execution_count": 191,
   "metadata": {},
   "outputs": [],
   "source": [
    "freqs = np.fft.fftfreq(len(l1))"
   ]
  },
  {
   "cell_type": "code",
   "execution_count": 192,
   "metadata": {},
   "outputs": [
    {
     "data": {
      "text/plain": [
       "array([ 0. ,  0.1,  0.2,  0.3,  0.4, -0.5, -0.4, -0.3, -0.2, -0.1])"
      ]
     },
     "execution_count": 192,
     "metadata": {},
     "output_type": "execute_result"
    }
   ],
   "source": [
    "freqs"
   ]
  },
  {
   "cell_type": "code",
   "execution_count": 163,
   "metadata": {},
   "outputs": [
    {
     "data": {
      "text/plain": [
       "[<matplotlib.lines.Line2D at 0xc02cbe0>]"
      ]
     },
     "execution_count": 163,
     "metadata": {},
     "output_type": "execute_result"
    },
    {
     "data": {
      "image/png": "[encoded data removed]",
      "text/plain": [
       "<Figure size 432x288 with 1 Axes>"
      ]
     },
     "metadata": {
      "needs_background": "light"
     },
     "output_type": "display_data"
    }
   ],
   "source": [
    "plt.plot(l1)"
   ]
  },
  {
   "cell_type": "code",
   "execution_count": 200,
   "metadata": {},
   "outputs": [
    {
     "data": {
      "text/plain": [
       "0.25894505375863114"
      ]
     },
     "execution_count": 200,
     "metadata": {},
     "output_type": "execute_result"
    }
   ],
   "source": [
    "np.corrcoef(sum1, l1)[1][0]"
   ]
  },
  {
   "cell_type": "code",
   "execution_count": 193,
   "metadata": {},
   "outputs": [
    {
     "name": "stdout",
     "output_type": "stream",
     "text": [
      "(52+0j) * exp(2 pi i t * 0.0)\n",
      "(-11.73606797749979-1.8163563200134014j) * exp(2 pi i t * 0.1)\n",
      "(8.44427190999916-3.8899827777575195j) * exp(2 pi i t * 0.2)\n",
      "(-7.26393202250021+7.694208842938133j) * exp(2 pi i t * 0.30000000000000004)\n",
      "(-9.44427190999916+4.167497329183294j) * exp(2 pi i t * 0.4)\n",
      "(-2-4.440892098500626e-16j) * exp(2 pi i t * -0.5)\n",
      "(-9.44427190999916-4.167497329183294j) * exp(2 pi i t * -0.4)\n",
      "(-7.26393202250021-7.694208842938133j) * exp(2 pi i t * -0.30000000000000004)\n",
      "(8.44427190999916+3.8899827777575195j) * exp(2 pi i t * -0.2)\n",
      "(-11.73606797749979+1.8163563200134032j) * exp(2 pi i t * -0.1)\n"
     ]
    }
   ],
   "source": [
    "# assign data \n",
    "x = np.array([1, 2, 1, 0, 1, 2, 1, 0]) \n",
    "  \n",
    "# compute DFT with optimized FFT \n",
    "w = np.fft.fft(l1) \n",
    "  \n",
    "# compute frequency associated \n",
    "# with coefficients \n",
    "freqs1 = np.fft.fftfreq(len(l1)) \n",
    "  \n",
    "# extract frequencies associated with FFT values \n",
    "for coef, freq in zip(w, freqs1): \n",
    "    if coef: \n",
    "        print('{c:>6} * exp(2 pi i t * {f})'.format(c=coef, \n",
    "                                                    f=freq)) "
   ]
  },
  {
   "cell_type": "code",
   "execution_count": 188,
   "metadata": {},
   "outputs": [
    {
     "data": {
      "text/plain": [
       "array([ 52.        +0.00000000e+00j, -11.73606798-1.81635632e+00j,\n",
       "         8.44427191-3.88998278e+00j,  -7.26393202+7.69420884e+00j,\n",
       "        -9.44427191+4.16749733e+00j,  -2.        -4.44089210e-16j,\n",
       "        -9.44427191-4.16749733e+00j,  -7.26393202-7.69420884e+00j,\n",
       "         8.44427191+3.88998278e+00j, -11.73606798+1.81635632e+00j])"
      ]
     },
     "execution_count": 188,
     "metadata": {},
     "output_type": "execute_result"
    }
   ],
   "source": [
    "w"
   ]
  },
  {
   "cell_type": "code",
   "execution_count": 194,
   "metadata": {},
   "outputs": [
    {
     "data": {
      "text/plain": [
       "array([ 0. ,  0.1,  0.2,  0.3,  0.4, -0.5, -0.4, -0.3, -0.2, -0.1])"
      ]
     },
     "execution_count": 194,
     "metadata": {},
     "output_type": "execute_result"
    }
   ],
   "source": [
    "freqs"
   ]
  },
  {
   "cell_type": "code",
   "execution_count": 195,
   "metadata": {},
   "outputs": [
    {
     "data": {
      "text/plain": [
       "array([ 0. ,  0.1,  0.2,  0.3,  0.4, -0.5, -0.4, -0.3, -0.2, -0.1])"
      ]
     },
     "execution_count": 195,
     "metadata": {},
     "output_type": "execute_result"
    }
   ],
   "source": [
    "freqs1"
   ]
  },
  {
   "cell_type": "code",
   "execution_count": 198,
   "metadata": {},
   "outputs": [
    {
     "ename": "TypeError",
     "evalue": "'module' object is not callable",
     "output_type": "error",
     "traceback": [
      "\u001b[1;31m---------------------------------------------------------------------------\u001b[0m",
      "\u001b[1;31mTypeError\u001b[0m                                 Traceback (most recent call last)",
      "\u001b[1;32m<ipython-input-198-120280be4a7e>\u001b[0m in \u001b[0;36m<module>\u001b[1;34m\u001b[0m\n\u001b[1;32m----> 1\u001b[1;33m \u001b[0mdft1\u001b[0m \u001b[1;33m=\u001b[0m \u001b[0mnp\u001b[0m\u001b[1;33m.\u001b[0m\u001b[0mfft\u001b[0m\u001b[1;33m(\u001b[0m\u001b[0ml1\u001b[0m\u001b[1;33m)\u001b[0m\u001b[1;33m\u001b[0m\u001b[1;33m\u001b[0m\u001b[0m\n\u001b[0m",
      "\u001b[1;31mTypeError\u001b[0m: 'module' object is not callable"
     ]
    }
   ],
   "source": [
    "dft1 = np.fft"
   ]
  },
  {
   "cell_type": "code",
   "execution_count": 197,
   "metadata": {},
   "outputs": [
    {
     "name": "stdout",
     "output_type": "stream",
     "text": [
      "Discrete Fourier Transform (:mod:`numpy.fft`)\n",
      "=============================================\n",
      "\n",
      ".. currentmodule:: numpy.fft\n",
      "\n",
      "Standard FFTs\n",
      "-------------\n",
      "\n",
      ".. autosummary::\n",
      "   :toctree: generated/\n",
      "\n",
      "   fft       Discrete Fourier transform.\n",
      "   ifft      Inverse discrete Fourier transform.\n",
      "   fft2      Discrete Fourier transform in two dimensions.\n",
      "   ifft2     Inverse discrete Fourier transform in two dimensions.\n",
      "   fftn      Discrete Fourier transform in N-dimensions.\n",
      "   ifftn     Inverse discrete Fourier transform in N dimensions.\n",
      "\n",
      "Real FFTs\n",
      "---------\n",
      "\n",
      ".. autosummary::\n",
      "   :toctree: generated/\n",
      "\n",
      "   rfft      Real discrete Fourier transform.\n",
      "   irfft     Inverse real discrete Fourier transform.\n",
      "   rfft2     Real discrete Fourier transform in two dimensions.\n",
      "   irfft2    Inverse real discrete Fourier transform in two dimensions.\n",
      "   rfftn     Real discrete Fourier transform in N dimensions.\n",
      "   irfftn    Inverse real discrete Fourier transform in N dimensions.\n",
      "\n",
      "Hermitian FFTs\n",
      "--------------\n",
      "\n",
      ".. autosummary::\n",
      "   :toctree: generated/\n",
      "\n",
      "   hfft      Hermitian discrete Fourier transform.\n",
      "   ihfft     Inverse Hermitian discrete Fourier transform.\n",
      "\n",
      "Helper routines\n",
      "---------------\n",
      "\n",
      ".. autosummary::\n",
      "   :toctree: generated/\n",
      "\n",
      "   fftfreq   Discrete Fourier Transform sample frequencies.\n",
      "   rfftfreq  DFT sample frequencies (for usage with rfft, irfft).\n",
      "   fftshift  Shift zero-frequency component to center of spectrum.\n",
      "   ifftshift Inverse of fftshift.\n",
      "\n",
      "\n",
      "Background information\n",
      "----------------------\n",
      "\n",
      "Fourier analysis is fundamentally a method for expressing a function as a\n",
      "sum of periodic components, and for recovering the function from those\n",
      "components.  When both the function and its Fourier transform are\n",
      "replaced with discretized counterparts, it is called the discrete Fourier\n",
      "transform (DFT).  The DFT has become a mainstay of numerical computing in\n",
      "part because of a very fast algorithm for computing it, called the Fast\n",
      "Fourier Transform (FFT), which was known to Gauss (1805) and was brought\n",
      "to light in its current form by Cooley and Tukey [CT]_.  Press et al. [NR]_\n",
      "provide an accessible introduction to Fourier analysis and its\n",
      "applications.\n",
      "\n",
      "Because the discrete Fourier transform separates its input into\n",
      "components that contribute at discrete frequencies, it has a great number\n",
      "of applications in digital signal processing, e.g., for filtering, and in\n",
      "this context the discretized input to the transform is customarily\n",
      "referred to as a *signal*, which exists in the *time domain*.  The output\n",
      "is called a *spectrum* or *transform* and exists in the *frequency\n",
      "domain*.\n",
      "\n",
      "Implementation details\n",
      "----------------------\n",
      "\n",
      "There are many ways to define the DFT, varying in the sign of the\n",
      "exponent, normalization, etc.  In this implementation, the DFT is defined\n",
      "as\n",
      "\n",
      ".. math::\n",
      "   A_k =  \\sum_{m=0}^{n-1} a_m \\exp\\left\\{-2\\pi i{mk \\over n}\\right\\}\n",
      "   \\qquad k = 0,\\ldots,n-1.\n",
      "\n",
      "The DFT is in general defined for complex inputs and outputs, and a\n",
      "single-frequency component at linear frequency :math:`f` is\n",
      "represented by a complex exponential\n",
      ":math:`a_m = \\exp\\{2\\pi i\\,f m\\Delta t\\}`, where :math:`\\Delta t`\n",
      "is the sampling interval.\n",
      "\n",
      "The values in the result follow so-called \"standard\" order: If ``A =\n",
      "fft(a, n)``, then ``A[0]`` contains the zero-frequency term (the sum of\n",
      "the signal), which is always purely real for real inputs. Then ``A[1:n/2]``\n",
      "contains the positive-frequency terms, and ``A[n/2+1:]`` contains the\n",
      "negative-frequency terms, in order of decreasingly negative frequency.\n",
      "For an even number of input points, ``A[n/2]`` represents both positive and\n",
      "negative Nyquist frequency, and is also purely real for real input.  For\n",
      "an odd number of input points, ``A[(n-1)/2]`` contains the largest positive\n",
      "frequency, while ``A[(n+1)/2]`` contains the largest negative frequency.\n",
      "The routine ``np.fft.fftfreq(n)`` returns an array giving the frequencies\n",
      "of corresponding elements in the output.  The routine\n",
      "``np.fft.fftshift(A)`` shifts transforms and their frequencies to put the\n",
      "zero-frequency components in the middle, and ``np.fft.ifftshift(A)`` undoes\n",
      "that shift.\n",
      "\n",
      "When the input `a` is a time-domain signal and ``A = fft(a)``, ``np.abs(A)``\n",
      "is its amplitude spectrum and ``np.abs(A)**2`` is its power spectrum.\n",
      "The phase spectrum is obtained by ``np.angle(A)``.\n",
      "\n",
      "The inverse DFT is defined as\n",
      "\n",
      ".. math::\n",
      "   a_m = \\frac{1}{n}\\sum_{k=0}^{n-1}A_k\\exp\\left\\{2\\pi i{mk\\over n}\\right\\}\n",
      "   \\qquad m = 0,\\ldots,n-1.\n",
      "\n",
      "It differs from the forward transform by the sign of the exponential\n",
      "argument and the default normalization by :math:`1/n`.\n",
      "\n",
      "Type Promotion\n",
      "--------------\n",
      "\n",
      "`numpy.fft` promotes ``float32`` and ``complex64`` arrays to ``float64`` and\n",
      "``complex128`` arrays respectively. For an FFT implementation that does not\n",
      "promote input arrays, see `scipy.fftpack`.\n",
      "\n",
      "Normalization\n",
      "-------------\n",
      "\n",
      "The default normalization has the direct transforms unscaled and the inverse\n",
      "transforms are scaled by :math:`1/n`. It is possible to obtain unitary\n",
      "transforms by setting the keyword argument ``norm`` to ``\"ortho\"`` (default is\n",
      "`None`) so that both direct and inverse transforms will be scaled by\n",
      ":math:`1/\\sqrt{n}`.\n",
      "\n",
      "Real and Hermitian transforms\n",
      "-----------------------------\n",
      "\n",
      "When the input is purely real, its transform is Hermitian, i.e., the\n",
      "component at frequency :math:`f_k` is the complex conjugate of the\n",
      "component at frequency :math:`-f_k`, which means that for real\n",
      "inputs there is no information in the negative frequency components that\n",
      "is not already available from the positive frequency components.\n",
      "The family of `rfft` functions is\n",
      "designed to operate on real inputs, and exploits this symmetry by\n",
      "computing only the positive frequency components, up to and including the\n",
      "Nyquist frequency.  Thus, ``n`` input points produce ``n/2+1`` complex\n",
      "output points.  The inverses of this family assumes the same symmetry of\n",
      "its input, and for an output of ``n`` points uses ``n/2+1`` input points.\n",
      "\n",
      "Correspondingly, when the spectrum is purely real, the signal is\n",
      "Hermitian.  The `hfft` family of functions exploits this symmetry by\n",
      "using ``n/2+1`` complex points in the input (time) domain for ``n`` real\n",
      "points in the frequency domain.\n",
      "\n",
      "In higher dimensions, FFTs are used, e.g., for image analysis and\n",
      "filtering.  The computational efficiency of the FFT means that it can\n",
      "also be a faster way to compute large convolutions, using the property\n",
      "that a convolution in the time domain is equivalent to a point-by-point\n",
      "multiplication in the frequency domain.\n",
      "\n",
      "Higher dimensions\n",
      "-----------------\n",
      "\n",
      "In two dimensions, the DFT is defined as\n",
      "\n",
      ".. math::\n",
      "   A_{kl} =  \\sum_{m=0}^{M-1} \\sum_{n=0}^{N-1}\n",
      "   a_{mn}\\exp\\left\\{-2\\pi i \\left({mk\\over M}+{nl\\over N}\\right)\\right\\}\n",
      "   \\qquad k = 0, \\ldots, M-1;\\quad l = 0, \\ldots, N-1,\n",
      "\n",
      "which extends in the obvious way to higher dimensions, and the inverses\n",
      "in higher dimensions also extend in the same way.\n",
      "\n",
      "References\n",
      "----------\n",
      "\n",
      ".. [CT] Cooley, James W., and John W. Tukey, 1965, \"An algorithm for the\n",
      "        machine calculation of complex Fourier series,\" *Math. Comput.*\n",
      "        19: 297-301.\n",
      "\n",
      ".. [NR] Press, W., Teukolsky, S., Vetterline, W.T., and Flannery, B.P.,\n",
      "        2007, *Numerical Recipes: The Art of Scientific Computing*, ch.\n",
      "        12-13.  Cambridge Univ. Press, Cambridge, UK.\n",
      "\n",
      "Examples\n",
      "--------\n",
      "\n",
      "For examples, see the various functions.\n"
     ]
    }
   ],
   "source": [
    "np.info(np.fft)"
   ]
  },
  {
   "cell_type": "code",
   "execution_count": 228,
   "metadata": {},
   "outputs": [],
   "source": [
    "def sinefit(data):\n",
    "    N = len(data)\n",
    "    fit = np.zeros(N)\n",
    "    time = np.array([i for i in range(1, N+1)])\n",
    "    corr = np.corrcoef(data, fit)[1][0]\n",
    "    counter = 1\n",
    "    while corr != 1:\n",
    "        corr = np.corrcoef(data, fit)[1][0]\n",
    "        sin = np.sin(counter*time)\n",
    "        coef = np.dot(sin, data)\n",
    "        fit += coef * sin\n",
    "        counter += 1\n",
    "    return fit"
   ]
  },
  {
   "cell_type": "code",
   "execution_count": null,
   "metadata": {},
   "outputs": [],
   "source": [
    "ff1 = sinefit(data1.D1[1:1001])"
   ]
  },
  {
   "cell_type": "code",
   "execution_count": 230,
   "metadata": {},
   "outputs": [
    {
     "data": {
      "text/plain": [
       "[<matplotlib.lines.Line2D at 0xc1831d8>]"
      ]
     },
     "execution_count": 230,
     "metadata": {},
     "output_type": "execute_result"
    },
    {
     "data": {
      "image/png": "[encoded data removed]",
      "text/plain": [
       "<Figure size 432x288 with 1 Axes>"
      ]
     },
     "metadata": {
      "needs_background": "light"
     },
     "output_type": "display_data"
    }
   ],
   "source": [
    "plt.plot(ff1)"
   ]
  },
  {
   "cell_type": "code",
   "execution_count": 231,
   "metadata": {},
   "outputs": [
    {
     "data": {
      "text/plain": [
       "array([[1., 1.],\n",
       "       [1., 1.]])"
      ]
     },
     "execution_count": 231,
     "metadata": {},
     "output_type": "execute_result"
    }
   ],
   "source": [
    "np.corrcoef(ff1, l1)"
   ]
  },
  {
   "cell_type": "code",
   "execution_count": null,
   "metadata": {},
   "outputs": [],
   "source": []
  }
 ],
 "metadata": {
  "kernelspec": {
   "display_name": "Python 3",
   "language": "python",
   "name": "python3"
  },
  "language_info": {
   "codemirror_mode": {
    "name": "ipython",
    "version": 3
   },
   "file_extension": ".py",
   "mimetype": "text/x-python",
   "name": "python",
   "nbconvert_exporter": "python",
   "pygments_lexer": "ipython3",
   "version": "3.8.5"
  }
 },
 "nbformat": 4,
 "nbformat_minor": 4
}
